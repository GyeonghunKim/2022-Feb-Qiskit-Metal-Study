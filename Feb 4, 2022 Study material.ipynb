{
 "cells": [
  {
   "cell_type": "markdown",
   "id": "2264c188",
   "metadata": {},
   "source": [
    "# Notebook for 2022 Feb Qiskit Metal Study"
   ]
  },
  {
   "cell_type": "markdown",
   "id": "e31218bc",
   "metadata": {},
   "source": [
    "Gyeonghun Kim (Qiskit Advocate / Seoul National University)"
   ]
  },
  {
   "cell_type": "markdown",
   "id": "a2257046",
   "metadata": {},
   "source": [
    "This jupyter notebook is created for 2022-Feb Qiskit Metal Study organized by Qiskit Korea and AiQyAm. This notebook covers basics about creating, copying and changing parameters for TransmonPockets and Transmission lines. To get more detailed knowledge, please below reference. "
   ]
  },
  {
   "cell_type": "markdown",
   "id": "6868cd89",
   "metadata": {},
   "source": [
    "Reference: \n",
    "https://github.com/Qiskit/qiskit-metal/tree/main/tutorials/2%20From%20components%20to%20chip"
   ]
  },
  {
   "cell_type": "code",
   "execution_count": 1,
   "id": "29669b32",
   "metadata": {},
   "outputs": [],
   "source": [
    "%load_ext autoreload\n",
    "%autoreload 2"
   ]
  },
  {
   "cell_type": "code",
   "execution_count": 2,
   "id": "4cedbf6f",
   "metadata": {
    "scrolled": false
   },
   "outputs": [
    {
     "data": {
      "text/html": [
       "\n",
       "    <h1 style=\"\n",
       "        background: #12c2e9;  /* fallback for old browsers */\n",
       "        background: -webkit-linear-gradient(to right, #d4418e 0%, #0652c5 74%);  /* Chrome 10-25, Safari 5.1-6 */\n",
       "        background: linear-gradient(315deg, #d4418e 0%, #0652c5 74%); /* W3C, IE 10+/ Edge, Firefox 16+, Chrome 26+, Opera 12+, Safari 7+ */\n",
       "        margin-top: 50px;\n",
       "        border-style: outset;\n",
       "        padding-top:100px;\n",
       "        padding-bottom:50px;\n",
       "        padding-left:25px;\n",
       "        color: white;\n",
       "    \"> Welcome to Qiskit Metal Study! <h1>\n",
       "        "
      ],
      "text/plain": [
       "<IPython.core.display.HTML object>"
      ]
     },
     "metadata": {},
     "output_type": "display_data"
    }
   ],
   "source": [
    "import numpy as np\n",
    "import qiskit_metal as metal\n",
    "from qiskit_metal import designs, draw\n",
    "from qiskit_metal import MetalGUI, Dict, open_docs\n",
    "\n",
    "%metal_heading Welcome to Qiskit Metal Study!"
   ]
  },
  {
   "cell_type": "markdown",
   "id": "15acaab9",
   "metadata": {},
   "source": [
    "## 1. Setup Planar design and GUI"
   ]
  },
  {
   "cell_type": "code",
   "execution_count": null,
   "id": "4725514c",
   "metadata": {
    "scrolled": false
   },
   "outputs": [],
   "source": [
    "# To start qiskit-metal, you have to create instance of below two.\n",
    "# After runing this cell, metal gui will appear.\n",
    "design = designs.DesignPlanar()\n",
    "gui = MetalGUI(design)"
   ]
  },
  {
   "cell_type": "code",
   "execution_count": null,
   "id": "8fbdaf12",
   "metadata": {},
   "outputs": [],
   "source": [
    "# If you delete all components in the current design, you can use delete_all_components method.\n",
    "design.delete_all_components()"
   ]
  },
  {
   "cell_type": "code",
   "execution_count": null,
   "id": "309645c7",
   "metadata": {},
   "outputs": [],
   "source": [
    "# To apply changes in design instance to your gui, you can use rebuild method in gui.\n",
    "gui.rebuild()"
   ]
  },
  {
   "cell_type": "markdown",
   "id": "72ac7064",
   "metadata": {},
   "source": [
    "## 2. TransmonPocket"
   ]
  },
  {
   "cell_type": "markdown",
   "id": "3fd83d71",
   "metadata": {},
   "source": [
    "Below, I will only show examples for TransmonPocket. However, since the syntax is equivalant for all other qcomponents, you can easily adopt this to other."
   ]
  },
  {
   "cell_type": "markdown",
   "id": "cf28ac8e",
   "metadata": {},
   "source": [
    "### 2.1. Add Transmon qubit"
   ]
  },
  {
   "cell_type": "code",
   "execution_count": null,
   "id": "8fa71733",
   "metadata": {
    "scrolled": true
   },
   "outputs": [],
   "source": [
    "# You can import templated qubit class from qiskit_metal.qlibrary.qubits.\n",
    "# For transmon pocket, \n",
    "from qiskit_metal.qlibrary.qubits.transmon_pocket import TransmonPocket\n"
   ]
  },
  {
   "cell_type": "code",
   "execution_count": null,
   "id": "aa2489bc",
   "metadata": {
    "scrolled": true
   },
   "outputs": [],
   "source": [
    "# For most simplest case, you can create TransmonPocket instance with default options as below.\n",
    "# Methods for creating QComponent with options will be explained in the section 2.4\n",
    "# Please ignore warnings here. These are caused by Shapely's future update, and would not make any troubles now.\n",
    "q1 = TransmonPocket(design, 'Q1')\n",
    "gui.rebuild()"
   ]
  },
  {
   "cell_type": "code",
   "execution_count": null,
   "id": "5f74e8d9",
   "metadata": {},
   "outputs": [],
   "source": [
    "# If you call TransmonPocket instance, you can see the parameters of it. \n",
    "q1"
   ]
  },
  {
   "cell_type": "code",
   "execution_count": null,
   "id": "79ddeeb7",
   "metadata": {},
   "outputs": [],
   "source": [
    "# Above options are same with TransmonPocket's default option\n",
    "TransmonPocket.default_options"
   ]
  },
  {
   "cell_type": "markdown",
   "id": "9aba5e10",
   "metadata": {},
   "source": [
    "### 2.2. Change parameters "
   ]
  },
  {
   "cell_type": "code",
   "execution_count": null,
   "id": "001b1821",
   "metadata": {},
   "outputs": [],
   "source": [
    "# If you want to change parameters of Transmon qubit, \n",
    "# you can simply change the parameters in the q1.options as below\n",
    "q1.options.pos_x = '2.0 mm' # Note that if you don't input the unit here, default length unit is mm not um.\n",
    "q1.options.pos_y = '2.0 mm'\n",
    "q1.options.pad_height = '250 um'\n",
    "q1.options.pad_width  = '300 um'"
   ]
  },
  {
   "cell_type": "code",
   "execution_count": null,
   "id": "69b1ccf6",
   "metadata": {
    "scrolled": true
   },
   "outputs": [],
   "source": [
    "# By rebuilding gui, you can check the parameters are changed.\n",
    "gui.rebuild()"
   ]
  },
  {
   "cell_type": "markdown",
   "id": "2dde4610",
   "metadata": {},
   "source": [
    "### 2.3. Copy QComponent"
   ]
  },
  {
   "cell_type": "code",
   "execution_count": null,
   "id": "aedb2265",
   "metadata": {
    "scrolled": true
   },
   "outputs": [],
   "source": [
    "# In many cases, copying QComponents is very useful. \n",
    "# To copy single QComponent, you can use copy_qcomponent method for design instance.\n",
    "q2 = design.copy_qcomponent(q1, 'Q2')\n",
    "# If you want to change parameters for copyed object, you can do it with two different way. \n",
    "# First method is same with above explained changing parameters.\n",
    "q2.options.pos_x = '-2.0mm'\n",
    "gui.rebuild()\n",
    "# By runing below, you can automatly scale the gui.\n",
    "gui.autoscale()"
   ]
  },
  {
   "cell_type": "code",
   "execution_count": null,
   "id": "b4beeed2",
   "metadata": {
    "scrolled": true
   },
   "outputs": [],
   "source": [
    "# Second method is giving options to the copy_qcomponent as below.\n",
    "q3 = design.copy_qcomponent(q1, 'Q3', dict(pos_x='-4.0mm'))"
   ]
  },
  {
   "cell_type": "code",
   "execution_count": null,
   "id": "813456a3",
   "metadata": {
    "scrolled": true
   },
   "outputs": [],
   "source": [
    "# If you want to copy multiple qcomponent, you can use below method. \n",
    "newcopies = design.copy_multiple_qcomponents([q1, q2], ['Q3', 'Q4'], [dict(pos_y='-2.0mm'), dict(pos_y='-2.0mm')])\n",
    "gui.rebuild()\n",
    "gui.autoscale()"
   ]
  },
  {
   "cell_type": "markdown",
   "id": "dcae4d8f",
   "metadata": {},
   "source": [
    "### 2.4. Add connecting pads "
   ]
  },
  {
   "cell_type": "markdown",
   "id": "052cc3c2",
   "metadata": {},
   "source": [
    "Qubit have to be connected with transmission line for operation, readout, and connection with other qubits. Transmission lines are coupled with superconducting qubit, therefore, we have to create connecting pads in the transmon qubit to connect with the transmission line."
   ]
  },
  {
   "cell_type": "code",
   "execution_count": null,
   "id": "9f43aedb",
   "metadata": {},
   "outputs": [],
   "source": [
    "design.delete_all_components()\n",
    "gui.rebuild()"
   ]
  },
  {
   "cell_type": "code",
   "execution_count": null,
   "id": "2bcb4070",
   "metadata": {},
   "outputs": [],
   "source": [
    "# To create Transmon Qubit with option, the only thing you have to do is \n",
    "# creating dictionary of options and give it as a input when you create TransmonPocket instance.\n",
    "# You can give options directly, without create dictionary as variable, like below, \n",
    "\n",
    "# Adding connection pads also can be done by add \"connection_pads\" in your option dictionary as below.\n",
    "q1 = TransmonPocket(design, 'Q1', \n",
    "                    options = dict(\n",
    "                        pos_x='-1.5mm', \n",
    "                        pos_y='+0.0mm', \n",
    "                        pad_width = '425 um',\n",
    "                        pocket_height = '650um',\n",
    "                        connection_pads = dict(\n",
    "                            a = dict(loc_W=+1,loc_H=+1), # (low_W, low_H) = (1, 1) => First Quadrant\n",
    "                            b = dict(loc_W=-1,loc_H=+1, pad_height='30um'), # (low_W, low_H) = (-1, 1) => Second Quadrant\n",
    "                            c = dict(loc_W=+1,loc_H=-1, pad_width='200um'), # (low_W, low_H) = (1, -1) => Fourth Quadrant\n",
    "                            d = dict(loc_W=-1,loc_H=-1, pad_height='50um') # (low_W, low_H) = (-1, -1) => Third Quadrant\n",
    "                        ) # Note that connection_pads have two geometrical options pad_height and pad_weight.\n",
    "                          # You can modify those values from default, by add them in option as above.\n",
    "                    )\n",
    "                )\n",
    "gui.rebuild()\n"
   ]
  },
  {
   "cell_type": "code",
   "execution_count": null,
   "id": "5b22b3ed",
   "metadata": {},
   "outputs": [],
   "source": [
    "design.delete_all_components()\n",
    "gui.rebuild()"
   ]
  },
  {
   "cell_type": "code",
   "execution_count": null,
   "id": "6f1d7876",
   "metadata": {},
   "outputs": [],
   "source": [
    "# I prefer below method, which is very convenient for reusing the parameters.\n",
    "\n",
    "optionsQ = dict(\n",
    "    pad_width = '425 um',\n",
    "    pocket_height = '650um',\n",
    "    connection_pads = dict(  # Qbits defined to have 4 pins\n",
    "        a = dict(loc_W=+1,loc_H=+1), \n",
    "        b = dict(loc_W=-1,loc_H=+1, pad_height='30um'),\n",
    "        c = dict(loc_W=+1,loc_H=-1, pad_width='200um'),\n",
    "        d = dict(loc_W=-1,loc_H=-1, pad_height='50um')\n",
    "    )\n",
    ")\n",
    "\n",
    "\n",
    "q1 = TransmonPocket(design, 'Q1', options = dict(pos_x='-1.5mm', pos_y='+0.0mm', **optionsQ))\n",
    "q2 = TransmonPocket(design, 'Q2', options = dict(pos_x='+0.35mm', pos_y='+1.0mm', orientation = '90',**optionsQ))\n",
    "q3 = TransmonPocket(design, 'Q3', options = dict(pos_x='2.0mm', pos_y='+0.0mm', **optionsQ))\n",
    "\n",
    "gui.rebuild()\n",
    "gui.autoscale()\n",
    "gui.highlight_components(['Q1', 'Q2', 'Q3'])  # This is to show the pins, so we can choose what to connect\n",
    "gui.rebuild()\n",
    "gui.autoscale()"
   ]
  },
  {
   "cell_type": "markdown",
   "id": "99ca94b3",
   "metadata": {},
   "source": [
    "## 3. Transmission line"
   ]
  },
  {
   "cell_type": "markdown",
   "id": "c975538c",
   "metadata": {},
   "source": [
    "Since length of the transmission line is key factor of determining resonant frequency. However, since the chip size is restricted, we have to make meander transmission lines."
   ]
  },
  {
   "cell_type": "code",
   "execution_count": null,
   "id": "a421b75b",
   "metadata": {},
   "outputs": [],
   "source": [
    "# You can import RouteMeander class as below\n",
    "from qiskit_metal.qlibrary.tlines.meandered import RouteMeander"
   ]
  },
  {
   "cell_type": "code",
   "execution_count": null,
   "id": "623b5cbe",
   "metadata": {},
   "outputs": [],
   "source": [
    "# Same with TransmonPocket, it also have its default options\n",
    "RouteMeander.get_template_options(design)"
   ]
  },
  {
   "cell_type": "markdown",
   "id": "f684d718",
   "metadata": {},
   "source": [
    "### 3.1. Connecting two superconducting qubit"
   ]
  },
  {
   "cell_type": "code",
   "execution_count": null,
   "id": "4ead2447",
   "metadata": {},
   "outputs": [],
   "source": [
    "# Connecting two TransmonPocket with RouteMinder is very easy.\n",
    "# It can be done by setting start_pin and end_pin in option as below\n",
    "ops=dict(fillet='90um')\n",
    "options = Dict(\n",
    "    total_length= '8mm', # This parameter is key parameter for changing resonant frequency\n",
    "    hfss_wire_bonds = True,\n",
    "    pin_inputs=Dict(\n",
    "        start_pin=Dict(\n",
    "            component= 'Q1', # Start component Name\n",
    "            pin= 'a'), # Start Pin in component\n",
    "        end_pin=Dict(\n",
    "            component= 'Q2',\n",
    "            pin= 'b')),\n",
    "    lead=Dict(\n",
    "        start_straight='0mm', # How long go straight from the starting point\n",
    "        end_straight='0.5mm'), # How long go straight to the end point\n",
    "    meander=Dict(\n",
    "       asymmetry='-1mm'),\n",
    "    **ops # Remark that this syntax usually used for reusing options.\n",
    ")\n",
    "\n",
    "cpw = RouteMeander(design, options=options)\n",
    "gui.rebuild()\n",
    "gui.autoscale()"
   ]
  },
  {
   "cell_type": "markdown",
   "id": "a3275971",
   "metadata": {},
   "source": [
    "If you check gui after run above code, you can see the line pass not expected pin. To solve that issue, you can increase \"start_straight\" value as below. Syntax for changing parameters in transmission line is same with the Transmon pocket."
   ]
  },
  {
   "cell_type": "code",
   "execution_count": null,
   "id": "5f19d9c0",
   "metadata": {},
   "outputs": [],
   "source": [
    "cpw.options.lead.start_straight='100um'\n",
    "gui.rebuild()\n",
    "gui.autoscale()"
   ]
  },
  {
   "cell_type": "markdown",
   "id": "f60318fc",
   "metadata": {},
   "source": [
    "Fillet in option is about radius in corner of transmission line. Sometimes, transmission lines have angulate. In this case, you can make this rough by reducing fillet radius as below."
   ]
  },
  {
   "cell_type": "code",
   "execution_count": null,
   "id": "d8aa7b22",
   "metadata": {},
   "outputs": [],
   "source": [
    "cpw.options['fillet']='30um'\n",
    "gui.rebuild()\n",
    "gui.autoscale()"
   ]
  },
  {
   "cell_type": "markdown",
   "id": "b1bde122",
   "metadata": {},
   "source": [
    "### 3.2. Custom jogs"
   ]
  },
  {
   "cell_type": "markdown",
   "id": "b30119fa",
   "metadata": {},
   "source": [
    "You can use custom jogs in your transmission line by add start_jogged_extension or end_jogged_extansion in your option."
   ]
  },
  {
   "cell_type": "code",
   "execution_count": null,
   "id": "74f039da",
   "metadata": {},
   "outputs": [],
   "source": [
    "from collections import OrderedDict\n",
    "jogs = OrderedDict()\n",
    "jogs[0] = [\"L\", '800um']\n",
    "jogs[1] = [\"L\", '500um']\n",
    "jogs[2] = [\"R\", '200um']\n",
    "jogs[3] = [\"R\", '500um']\n",
    " \n",
    "options = Dict(\n",
    "    total_length= '14mm',\n",
    "    pin_inputs=Dict(\n",
    "        start_pin=Dict(\n",
    "            component= 'Q1',\n",
    "            pin= 'd'),\n",
    "        end_pin=Dict(\n",
    "            component= 'Q3',\n",
    "            pin= 'd')),\n",
    "    lead=Dict(\n",
    "        start_straight='0.1mm',\n",
    "        end_straight='0.1mm',\n",
    "        start_jogged_extension=jogs,\n",
    "        end_jogged_extension=jogs),\n",
    "    meander=Dict(\n",
    "       asymmetry='-1.2mm'),\n",
    "    **ops\n",
    ")\n",
    "\n",
    "try:\n",
    "    cpw5.delete()\n",
    "except NameError: pass\n",
    "\n",
    "cpw5 = RouteMeander(design,options=options)\n",
    "gui.rebuild()\n",
    "gui.autoscale()"
   ]
  },
  {
   "cell_type": "markdown",
   "id": "39ab2bb0",
   "metadata": {},
   "source": [
    "### 3.3. Anchors"
   ]
  },
  {
   "cell_type": "markdown",
   "id": "3a2697d7",
   "metadata": {},
   "source": [
    "Another way to force the path of the transmission line is creating anchors. This also can be done by using RoutePathfinder and adding anchors in your options. "
   ]
  },
  {
   "cell_type": "code",
   "execution_count": null,
   "id": "0d1ad683",
   "metadata": {},
   "outputs": [],
   "source": [
    "# Before showing examples of anchors, I will reset design and add some new transmon pockets. \n",
    "\n",
    "design.delete_all_components()\n",
    "gui.rebuild()\n",
    "\n",
    "options = dict(\n",
    "    pad_width = '425 um', \n",
    "    pocket_height = '650um',\n",
    "    connection_pads=dict(  # pin connectors\n",
    "        a = dict(loc_W=+1,loc_H=+1), \n",
    "        b = dict(loc_W=-1,loc_H=+1, pad_height='30um'),\n",
    "        c = dict(loc_W=+1,loc_H=-1, pad_width='200um'),\n",
    "        d = dict(loc_W=-1,loc_H=-1, pad_height='50um')\n",
    "    )\n",
    ")\n",
    "\n",
    "q0 = TransmonPocket(design, 'Q0', options = dict(pos_x='-1.0mm', pos_y='-1.0mm', **options))\n",
    "q1 = TransmonPocket(design, 'Q1', options = dict(pos_x='1.0mm', pos_y='+0.0mm', **options))\n",
    "\n",
    "gui.rebuild()\n",
    "gui.autoscale()"
   ]
  },
  {
   "cell_type": "code",
   "execution_count": null,
   "id": "fd98c558",
   "metadata": {
    "scrolled": true
   },
   "outputs": [],
   "source": [
    "# You can import RoutePathfinder as below\n",
    "from qiskit_metal.qlibrary.tlines.pathfinder import RoutePathfinder\n",
    "from collections import OrderedDict\n",
    "# You should add anchors in OrderedDict because the order in anchors are very important.\n",
    "anchors = OrderedDict()\n",
    "anchors[0] = np.array([-0.452, -0.555])\n",
    "anchors[1] = np.array([-0.452, -1.5])\n",
    "anchors[2] = np.array([0.048, -1.5])\n",
    "\n",
    "options = {'pin_inputs': \n",
    "            {'start_pin': {'component': 'Q0', 'pin': 'b'}, \n",
    "             'end_pin': {'component': 'Q1', 'pin': 'b'}},\n",
    "            'lead': {'start_straight': '91um', 'end_straight': '95um'},\n",
    "            'step_size': '0.25mm',\n",
    "            'anchors': anchors,\n",
    "            **ops\n",
    "           }\n",
    "\n",
    "qa = RoutePathfinder(design, 'line', options)\n",
    "\n",
    "gui.rebuild()\n",
    "gui.autoscale()"
   ]
  },
  {
   "cell_type": "code",
   "execution_count": null,
   "id": "84252ca0",
   "metadata": {},
   "outputs": [],
   "source": []
  }
 ],
 "metadata": {
  "kernelspec": {
   "display_name": "qiskit-metal",
   "language": "python",
   "name": "qiskit-metal"
  },
  "language_info": {
   "codemirror_mode": {
    "name": "ipython",
    "version": 3
   },
   "file_extension": ".py",
   "mimetype": "text/x-python",
   "name": "python",
   "nbconvert_exporter": "python",
   "pygments_lexer": "ipython3",
   "version": "3.9.10"
  }
 },
 "nbformat": 4,
 "nbformat_minor": 5
}
